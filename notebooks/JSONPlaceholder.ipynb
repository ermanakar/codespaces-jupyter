{
 "cells": [
  {
   "cell_type": "code",
   "execution_count": 2,
   "metadata": {},
   "outputs": [
    {
     "name": "stdout",
     "output_type": "stream",
     "text": [
      "   userId  id                                              title  \\\n",
      "0       1   1  sunt aut facere repellat provident occaecati e...   \n",
      "1       1   2                                       qui est esse   \n",
      "2       1   3  ea molestias quasi exercitationem repellat qui...   \n",
      "3       1   4                               eum et est occaecati   \n",
      "4       1   5                                 nesciunt quas odio   \n",
      "\n",
      "                                                body  \n",
      "0  quia et suscipit\\nsuscipit recusandae consequu...  \n",
      "1  est rerum tempore vitae\\nsequi sint nihil repr...  \n",
      "2  et iusto sed quo iure\\nvoluptatem occaecati om...  \n",
      "3  ullam et saepe reiciendis voluptatem adipisci\\...  \n",
      "4  repudiandae veniam quaerat sunt sed\\nalias aut...  \n"
     ]
    }
   ],
   "source": [
    "import requests\n",
    "import pandas as pd\n",
    "\n",
    "# Make a GET request to the API\n",
    "response = requests.get('https://jsonplaceholder.typicode.com/posts')\n",
    "\n",
    "# Convert the response to JSON\n",
    "data = response.json()\n",
    "\n",
    "# Convert the JSON to a DataFrame\n",
    "df = pd.DataFrame(data)\n",
    "\n",
    "# Show the first 5 rows of the DataFrame\n",
    "print(df.head())\n"
   ]
  },
  {
   "attachments": {},
   "cell_type": "markdown",
   "metadata": {},
   "source": [
    "Testing free api's #2"
   ]
  },
  {
   "cell_type": "code",
   "execution_count": 5,
   "metadata": {},
   "outputs": [
    {
     "name": "stdout",
     "output_type": "stream",
     "text": [
      "           kind            id         etag  \\\n",
      "0  books#volume  OyLzoNQ2vuEC  +lXwSyh9RyE   \n",
      "1  books#volume  rmnNCwAAQBAJ  ixh5wo4GX/Q   \n",
      "2  books#volume  zDsyZdaUIOYC  I47erIyYpVg   \n",
      "3  books#volume  MiQmzgEACAAJ  cKIilrUgD1Y   \n",
      "4  books#volume  xf3-CQAAQBAJ  Vn8Tf3omdGk   \n",
      "\n",
      "                                            selfLink  \\\n",
      "0  https://www.googleapis.com/books/v1/volumes/Oy...   \n",
      "1  https://www.googleapis.com/books/v1/volumes/rm...   \n",
      "2  https://www.googleapis.com/books/v1/volumes/zD...   \n",
      "3  https://www.googleapis.com/books/v1/volumes/Mi...   \n",
      "4  https://www.googleapis.com/books/v1/volumes/xf...   \n",
      "\n",
      "                                          volumeInfo  \\\n",
      "0  {'title': 'De reisgenoten', 'authors': ['J.R.R...   \n",
      "1  {'title': 'Het verhaal van Kullervo', 'subtitl...   \n",
      "2  {'title': 'De kinderen van Húrin', 'authors': ...   \n",
      "3  {'title': 'In de ban van de ring', 'authors': ...   \n",
      "4  {'title': 'De avonturen van Tom Bombadil', 'au...   \n",
      "\n",
      "                                            saleInfo  \\\n",
      "0  {'country': 'NL', 'saleability': 'FOR_SALE', '...   \n",
      "1  {'country': 'NL', 'saleability': 'FOR_SALE', '...   \n",
      "2  {'country': 'NL', 'saleability': 'FOR_SALE', '...   \n",
      "3  {'country': 'NL', 'saleability': 'NOT_FOR_SALE...   \n",
      "4  {'country': 'NL', 'saleability': 'FOR_SALE', '...   \n",
      "\n",
      "                                          accessInfo  \\\n",
      "0  {'country': 'NL', 'viewability': 'PARTIAL', 'e...   \n",
      "1  {'country': 'NL', 'viewability': 'PARTIAL', 'e...   \n",
      "2  {'country': 'NL', 'viewability': 'PARTIAL', 'e...   \n",
      "3  {'country': 'NL', 'viewability': 'NO_PAGES', '...   \n",
      "4  {'country': 'NL', 'viewability': 'PARTIAL', 'e...   \n",
      "\n",
      "                                          searchInfo  \n",
      "0  {'textSnippet': 'In een rustig dorpje in de Go...  \n",
      "1  {'textSnippet': 'Het allereerste verhaal dat J...  \n",
      "2  {'textSnippet': 'De kinderen van Húrin is het ...  \n",
      "3  {'textSnippet': 'De langdurige avontuurlijke e...  \n",
      "4  {'textSnippet': 'De pers over J.R.R. Tolkien ‘...  \n"
     ]
    }
   ],
   "source": [
    "import requests\n",
    "import pandas as pd\n",
    "\n",
    "# Set pandas option to display all columns\n",
    "pd.set_option('display.max_columns', None)\n",
    "\n",
    "# Make a GET request to the Google Books API\n",
    "response = requests.get(\"https://www.googleapis.com/books/v1/volumes?q=author:tolkien\")\n",
    "\n",
    "# Check if the request was successful\n",
    "if response.status_code == 200:\n",
    "    # Convert the response to JSON\n",
    "    data = response.json()\n",
    "\n",
    "    # Extract the list of books from the JSON response\n",
    "    books = data['items']\n",
    "\n",
    "    # Create a DataFrame from the list of books\n",
    "    df = pd.DataFrame(books)\n",
    "\n",
    "    # Print the first 5 rows of the DataFrame\n",
    "    print(df.head())\n",
    "else:\n",
    "    print(f\"Request failed with status code {response.status_code}\")\n"
   ]
  }
 ],
 "metadata": {
  "kernelspec": {
   "display_name": "Python 3",
   "language": "python",
   "name": "python3"
  },
  "language_info": {
   "codemirror_mode": {
    "name": "ipython",
    "version": 3
   },
   "file_extension": ".py",
   "mimetype": "text/x-python",
   "name": "python",
   "nbconvert_exporter": "python",
   "pygments_lexer": "ipython3",
   "version": "3.10.8"
  },
  "orig_nbformat": 4
 },
 "nbformat": 4,
 "nbformat_minor": 2
}
